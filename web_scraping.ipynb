{
 "cells": [
  {
   "cell_type": "code",
   "execution_count": 3,
   "id": "57e13ef6-92e6-4a98-9ac1-144c336e5a74",
   "metadata": {},
   "outputs": [
    {
     "name": "stdout",
     "output_type": "stream",
     "text": [
      "Collecting BeautifulSoup4\n",
      "\u001b[?25l  Downloading https://files.pythonhosted.org/packages/d1/41/e6495bd7d3781cee623ce23ea6ac73282a373088fcd0ddc809a047b18eae/beautifulsoup4-4.9.3-py3-none-any.whl (115kB)\n",
      "\u001b[K     |████████████████████████████████| 122kB 17.1MB/s eta 0:00:01\n",
      "\u001b[?25hCollecting soupsieve>1.2; python_version >= \"3.0\" (from BeautifulSoup4)\n",
      "  Downloading https://files.pythonhosted.org/packages/36/69/d82d04022f02733bf9a72bc3b96332d360c0c5307096d76f6bb7489f7e57/soupsieve-2.2.1-py3-none-any.whl\n",
      "Installing collected packages: soupsieve, BeautifulSoup4\n",
      "Successfully installed BeautifulSoup4-4.9.3 soupsieve-2.2.1\n"
     ]
    }
   ],
   "source": [
    "!pip install BeautifulSoup4"
   ]
  },
  {
   "cell_type": "markdown",
   "id": "a7b99631-33f4-4081-9558-fc4399572cbe",
   "metadata": {},
   "source": [
    "# Scraping web data using Python."
   ]
  },
  {
   "cell_type": "markdown",
   "id": "dc86e9cf-af02-4abf-8ba9-3e71430f687f",
   "metadata": {},
   "source": [
    "## Scraping Top Repositories of trending project topics on GitHub."
   ]
  },
  {
   "cell_type": "markdown",
   "id": "d8ffa1c5-4e5a-4b57-bb1e-8be6968ecf14",
   "metadata": {},
   "source": [
    "### Project outline:\n",
    "\n",
    "- We're going to scrape Github webpage of top topics https://github.com/topics\n",
    "- We'll get a list of topics. For each topic, we'll get topic title, topic page URL and topic description\n",
    "- For each topic, we'll get the top 25 repositories under each topic\n",
    "- For each repository, we'll grab the repo name, username, user Url, repo URL and ratings\n",
    "- For each topic we'll create a CSV file in the following format:\n",
    "  - Username,User url,Reponame Repo URL and ratings\n",
    "  - mrdoob, https://github.com/mrdoob/mrdoob, three.js, https://github.com/mrdoob/three.js, 69700\n",
    "  - libgdx, https://github.com/libgdx/libgdx, libgdx, https://github.com/libgdx/libgdx, 18300"
   ]
  },
  {
   "cell_type": "markdown",
   "id": "229dc639-4915-4c35-bf2d-21bd84a2bd5e",
   "metadata": {},
   "source": [
    "### Steps involved in scrapind web data.\n",
    "- Have used Requests module to downlaod the web page into python object.\n",
    "- Have used BeautifulSoap module to parse web data and extract information\n",
    "- Have used python pandas module to convert scraped data into dataframe and save it as CSV file."
   ]
  },
  {
   "cell_type": "markdown",
   "id": "59047b64-39fc-4e64-ba97-7fc93ca4d5b5",
   "metadata": {},
   "source": [
    "## Introduction\n",
    "**Web scraping :**\n",
    "\n",
    "Web scraping is the process of extracting data from the website using automated tools to make the process faster. Here we are using Python programming lanaguage and requests, Beautiful Soup and pandas module for the process.\n",
    "\n",
    "**Requests :**\n",
    "\n",
    "The requests module allows us to send HTTP requests using Python. The HTTP request returns a Response Object (JSON format) with all the response data (content, encoding, status, etc).A Http request is meant to either retrieve data from a specified URI or to push data to a server. It works as a request-response protocol between a client and a server.                          \n",
    "Python’s requests module provides in-built method called get() for making a GET request to a specified URI.\n",
    "\n",
    "Syntax : requests.get(url, params={key: value}, args)\n",
    "\n",
    "**BeautifulSoup :**\n",
    "\n",
    "Beautiful Soup is a Python package for parsing HTML and XML documents. It creates a parse tree for parsed pages that can be used to extract data from HTML, which is useful for web scraping. This is accomplished by representing the HTML as a set of objects with methods used to parse the HTML. Beautiful Soup transforms a complex HTML document into a complex tree of Python objects.\n",
    "\n",
    "**Pandas:**\n",
    "\n",
    "Pandas is a software library written for the Python programming language for data manipulation and analysis. Here we are using pandas to convert dictionary, which created after appending scraped data from the webpage into a DataFrame. It makes easy for viewing the scraped data in a tabular format and downloading of scraped data as a csv file."
   ]
  },
  {
   "cell_type": "markdown",
   "id": "faf90b6d-d9a3-4c2d-bd01-194e1ed87ac8",
   "metadata": {},
   "source": [
    "### Scraping github webpage for top 25 topics."
   ]
  },
  {
   "cell_type": "code",
   "execution_count": 53,
   "id": "bf342a93-3f00-440f-9c99-05635fa81fdb",
   "metadata": {},
   "outputs": [],
   "source": [
    "import pandas as pd\n",
    "import numpy as np\n",
    "import requests\n",
    "from bs4 import BeautifulSoup\n",
    "import os"
   ]
  },
  {
   "cell_type": "code",
   "execution_count": 54,
   "id": "81550f5c-2e09-468a-8da6-5a69a9fd4513",
   "metadata": {},
   "outputs": [],
   "source": [
    "def get_webdata(url):\n",
    "    #Making request to a github web page using url.\n",
    "    #The serevr returns response object with webpage contents\n",
    "    response = requests.get(url)\n",
    "    page_contents = response.text\n",
    "    #Parsing webpage contents into complex tree of Python objects.\n",
    "    soup = BeautifulSoup(page_contents, 'html.parser')\n",
    "    return soup"
   ]
  },
  {
   "cell_type": "code",
   "execution_count": 36,
   "id": "83f81822-17cf-4ab7-af19-242421934f4b",
   "metadata": {},
   "outputs": [
    {
     "data": {
      "text/plain": [
       "[]"
      ]
     },
     "execution_count": 36,
     "metadata": {},
     "output_type": "execute_result"
    }
   ],
   "source": [
    "url = 'https://github.com/topics'\n",
    "doc = get_webdata(url)\n",
    "doc.find_all()"
   ]
  },
  {
   "cell_type": "code",
   "execution_count": 55,
   "id": "6ebcaa7a-5228-4f5b-8849-16085e589bd6",
   "metadata": {},
   "outputs": [],
   "source": [
    "def get_title():\n",
    "    # To get title name of project topic.\n",
    "    url = 'https://github.com/topics'\n",
    "    soup = get_webdata(url)\n",
    "    tit_sel = \"f3 lh-condensed mb-0 mt-1 Link--primary\"\n",
    "    tit_tags = soup.find_all('p',{'class':tit_sel})\n",
    "    title = []\n",
    "    for tag in tit_tags:\n",
    "        title.append(tag.text) \n",
    "    return title"
   ]
  },
  {
   "cell_type": "code",
   "execution_count": 43,
   "id": "6eb705da-343c-4dd9-b511-47ec9291fe1d",
   "metadata": {},
   "outputs": [
    {
     "data": {
      "text/plain": [
       "['3D', 'Ajax', 'Algorithm', 'Amp', 'Android']"
      ]
     },
     "execution_count": 43,
     "metadata": {},
     "output_type": "execute_result"
    }
   ],
   "source": [
    "doc_t = get_title()\n",
    "doc_t[:5]"
   ]
  },
  {
   "cell_type": "code",
   "execution_count": 61,
   "id": "6fa9f932-90ef-4303-ac60-1f09243a9430",
   "metadata": {},
   "outputs": [],
   "source": [
    "def get_description():\n",
    "    # To get description of project topic.\n",
    "    url = 'https://github.com/topics'\n",
    "    soup = get_webdata(url)\n",
    "    des_sel = \"f5 color-text-secondary mb-0 mt-1\"\n",
    "    des_tags = soup.find_all('p',{'class':des_sel})\n",
    "    description = []\n",
    "    for tag in des_tags:\n",
    "        description.append(tag.text.strip()) \n",
    "    return description"
   ]
  },
  {
   "cell_type": "code",
   "execution_count": 48,
   "id": "8f733e05-ee02-4126-8859-5773d29dfe93",
   "metadata": {},
   "outputs": [
    {
     "data": {
      "text/plain": [
       "['3D modeling is the process of virtually developing the surface and structure of a 3D object.',\n",
       " 'Ajax is a technique for creating interactive web applications.',\n",
       " 'Algorithms are self-contained sequences that carry out a variety of tasks.',\n",
       " 'Amp is a non-blocking concurrency framework for PHP.',\n",
       " 'Android is an operating system built by Google designed for mobile devices.']"
      ]
     },
     "execution_count": 48,
     "metadata": {},
     "output_type": "execute_result"
    }
   ],
   "source": [
    "doc_d = get_desc()\n",
    "doc_d[:5]"
   ]
  },
  {
   "cell_type": "code",
   "execution_count": 57,
   "id": "76754270-5f13-4bf8-8069-3bd6d56c639e",
   "metadata": {},
   "outputs": [],
   "source": [
    "def get_link():\n",
    "    # To get link of the project topic.\n",
    "    url = 'https://github.com/topics'\n",
    "    soup = get_webdata(url)\n",
    "    link_sel = \"d-flex no-underline\"\n",
    "    link_tags = soup.find_all('a',{'class': link_sel})\n",
    "    \n",
    "    links = []\n",
    "    base = 'https://github.com'\n",
    "    for tag in link_tags:\n",
    "        links.append(base + tag['href'] )\n",
    "    return links"
   ]
  },
  {
   "cell_type": "code",
   "execution_count": 52,
   "id": "02a3d173-3ef5-4fc0-b2c5-798006f21fc4",
   "metadata": {},
   "outputs": [
    {
     "data": {
      "text/plain": [
       "['https://github.com/topics/3d',\n",
       " 'https://github.com/topics/ajax',\n",
       " 'https://github.com/topics/algorithm',\n",
       " 'https://github.com/topics/amphp',\n",
       " 'https://github.com/topics/android']"
      ]
     },
     "execution_count": 52,
     "metadata": {},
     "output_type": "execute_result"
    }
   ],
   "source": [
    "doc_l = get_link()\n",
    "doc_l[0:5]"
   ]
  },
  {
   "cell_type": "code",
   "execution_count": 68,
   "id": "430ab5be-71bc-4e86-ae7b-41041539bb61",
   "metadata": {},
   "outputs": [],
   "source": [
    "def create_topic_df(title,description,links):\n",
    "    # To create the DataFrame of top 30 project topics.\n",
    "    topic_dict = {'Title':title,'Description':description,'Link':links}\n",
    "    df = pd.DataFrame(topic_dict)\n",
    "    return df"
   ]
  },
  {
   "cell_type": "code",
   "execution_count": 69,
   "id": "6d27ec55-95f3-4b84-b084-61e3fbab0fbb",
   "metadata": {},
   "outputs": [],
   "source": [
    "def scrape_project_topics():\n",
    "    # To get the DataFrame of top 30 Github Project Topics.\n",
    "    url = 'https://github.com/topics'\n",
    "    soup = get_webdata(url)\n",
    "    # To get title name of project topic.\n",
    "    title = get_title()\n",
    "    # To get description of project topic.\n",
    "    description = get_description()\n",
    "    # To get url of project topic.\n",
    "    links = get_link()\n",
    "    # Calling function to create Dataframe.\n",
    "    df = create_topic_df(title,description,links)\n",
    "    return df"
   ]
  },
  {
   "cell_type": "code",
   "execution_count": 64,
   "id": "400ef07f-7e53-416f-ac15-f6ab9262ae30",
   "metadata": {},
   "outputs": [
    {
     "data": {
      "text/html": [
       "<div>\n",
       "<style scoped>\n",
       "    .dataframe tbody tr th:only-of-type {\n",
       "        vertical-align: middle;\n",
       "    }\n",
       "\n",
       "    .dataframe tbody tr th {\n",
       "        vertical-align: top;\n",
       "    }\n",
       "\n",
       "    .dataframe thead th {\n",
       "        text-align: right;\n",
       "    }\n",
       "</style>\n",
       "<table border=\"1\" class=\"dataframe\">\n",
       "  <thead>\n",
       "    <tr style=\"text-align: right;\">\n",
       "      <th></th>\n",
       "      <th>Title</th>\n",
       "      <th>Description</th>\n",
       "      <th>Link</th>\n",
       "    </tr>\n",
       "  </thead>\n",
       "  <tbody>\n",
       "    <tr>\n",
       "      <th>0</th>\n",
       "      <td>3D</td>\n",
       "      <td>3D modeling is the process of virtually develo...</td>\n",
       "      <td>https://github.com/topics/3d</td>\n",
       "    </tr>\n",
       "    <tr>\n",
       "      <th>1</th>\n",
       "      <td>Ajax</td>\n",
       "      <td>Ajax is a technique for creating interactive w...</td>\n",
       "      <td>https://github.com/topics/ajax</td>\n",
       "    </tr>\n",
       "    <tr>\n",
       "      <th>2</th>\n",
       "      <td>Algorithm</td>\n",
       "      <td>Algorithms are self-contained sequences that c...</td>\n",
       "      <td>https://github.com/topics/algorithm</td>\n",
       "    </tr>\n",
       "    <tr>\n",
       "      <th>3</th>\n",
       "      <td>Amp</td>\n",
       "      <td>Amp is a non-blocking concurrency framework fo...</td>\n",
       "      <td>https://github.com/topics/amphp</td>\n",
       "    </tr>\n",
       "    <tr>\n",
       "      <th>4</th>\n",
       "      <td>Android</td>\n",
       "      <td>Android is an operating system built by Google...</td>\n",
       "      <td>https://github.com/topics/android</td>\n",
       "    </tr>\n",
       "  </tbody>\n",
       "</table>\n",
       "</div>"
      ],
      "text/plain": [
       "       Title                                        Description  \\\n",
       "0         3D  3D modeling is the process of virtually develo...   \n",
       "1       Ajax  Ajax is a technique for creating interactive w...   \n",
       "2  Algorithm  Algorithms are self-contained sequences that c...   \n",
       "3        Amp  Amp is a non-blocking concurrency framework fo...   \n",
       "4    Android  Android is an operating system built by Google...   \n",
       "\n",
       "                                  Link  \n",
       "0         https://github.com/topics/3d  \n",
       "1       https://github.com/topics/ajax  \n",
       "2  https://github.com/topics/algorithm  \n",
       "3      https://github.com/topics/amphp  \n",
       "4    https://github.com/topics/android  "
      ]
     },
     "execution_count": 64,
     "metadata": {},
     "output_type": "execute_result"
    }
   ],
   "source": [
    "scrape_project_topics().head(5)"
   ]
  },
  {
   "cell_type": "markdown",
   "id": "933b9678-e74a-4dc5-866c-2ce93b28c57d",
   "metadata": {},
   "source": [
    "### Scrapig Github topics webpage for top 25 repositories"
   ]
  },
  {
   "cell_type": "code",
   "execution_count": 71,
   "id": "41d40659-b224-4758-ba1e-d74275ada4bd",
   "metadata": {},
   "outputs": [],
   "source": [
    "def get_repo(url):\n",
    "    # To get the dataframe of repositories in each top topics.\n",
    "    soup = get_webdata(url)\n",
    "    # To get list of repository tags\n",
    "    repo_selector = 'f3 color-text-secondary text-normal lh-condensed'\n",
    "    repo_tag = soup.find_all('h1',{\"class\":repo_selector})\n",
    "    # To get list of rating tags.\n",
    "    star_selector = 'social-count float-none'\n",
    "    star_tag = soup.find_all('a',{'class':star_selector})\n",
    "    #Creating dictionaty for appending variables.\n",
    "    repo_dict = {'Username':[], 'Userurl':[], 'Reponame':[], 'Repourl':[], 'Ratings':[]}\n",
    "    # Base url for the github repository\n",
    "    base = 'https://github.com'\n",
    "    # To populate dictionary with different repository variables.\n",
    "    for i in range(len(repo_tag)):\n",
    "        user_tag  = repo_tag[i]('a')\n",
    "        user_name = user_tag[0].text.strip()\n",
    "        user_url = base + user_tag[0]['href']\n",
    "        repo_name = user_tag[1].text.strip()\n",
    "        repo_url = base + user_tag[1]['href']\n",
    "        rating   = str_to_float(star_tag[i].text.strip())\n",
    "        repo_dict['Username'].append(user_name)\n",
    "        repo_dict['Userurl'].append(user_url)\n",
    "        repo_dict['Reponame'].append(repo_name)\n",
    "        repo_dict['Repourl'].append(repo_url)\n",
    "        repo_dict['Ratings'].append(rating)\n",
    "    return create_repo_df(repo_dict)"
   ]
  },
  {
   "cell_type": "code",
   "execution_count": 77,
   "id": "635dffc8-2533-4a05-8d70-8a9f89dc7045",
   "metadata": {},
   "outputs": [
    {
     "data": {
      "text/html": [
       "<div>\n",
       "<style scoped>\n",
       "    .dataframe tbody tr th:only-of-type {\n",
       "        vertical-align: middle;\n",
       "    }\n",
       "\n",
       "    .dataframe tbody tr th {\n",
       "        vertical-align: top;\n",
       "    }\n",
       "\n",
       "    .dataframe thead th {\n",
       "        text-align: right;\n",
       "    }\n",
       "</style>\n",
       "<table border=\"1\" class=\"dataframe\">\n",
       "  <thead>\n",
       "    <tr style=\"text-align: right;\">\n",
       "      <th></th>\n",
       "      <th>Username</th>\n",
       "      <th>Userurl</th>\n",
       "      <th>Reponame</th>\n",
       "      <th>Repourl</th>\n",
       "      <th>Ratings</th>\n",
       "    </tr>\n",
       "  </thead>\n",
       "  <tbody>\n",
       "    <tr>\n",
       "      <th>0</th>\n",
       "      <td>mrdoob</td>\n",
       "      <td>https://github.com/mrdoob</td>\n",
       "      <td>three.js</td>\n",
       "      <td>https://github.com/mrdoob/three.js</td>\n",
       "      <td>70400</td>\n",
       "    </tr>\n",
       "    <tr>\n",
       "      <th>1</th>\n",
       "      <td>libgdx</td>\n",
       "      <td>https://github.com/libgdx</td>\n",
       "      <td>libgdx</td>\n",
       "      <td>https://github.com/libgdx/libgdx</td>\n",
       "      <td>18400</td>\n",
       "    </tr>\n",
       "    <tr>\n",
       "      <th>2</th>\n",
       "      <td>BabylonJS</td>\n",
       "      <td>https://github.com/BabylonJS</td>\n",
       "      <td>Babylon.js</td>\n",
       "      <td>https://github.com/BabylonJS/Babylon.js</td>\n",
       "      <td>14000</td>\n",
       "    </tr>\n",
       "    <tr>\n",
       "      <th>3</th>\n",
       "      <td>pmndrs</td>\n",
       "      <td>https://github.com/pmndrs</td>\n",
       "      <td>react-three-fiber</td>\n",
       "      <td>https://github.com/pmndrs/react-three-fiber</td>\n",
       "      <td>13200</td>\n",
       "    </tr>\n",
       "    <tr>\n",
       "      <th>4</th>\n",
       "      <td>aframevr</td>\n",
       "      <td>https://github.com/aframevr</td>\n",
       "      <td>aframe</td>\n",
       "      <td>https://github.com/aframevr/aframe</td>\n",
       "      <td>12700</td>\n",
       "    </tr>\n",
       "  </tbody>\n",
       "</table>\n",
       "</div>"
      ],
      "text/plain": [
       "    Username                       Userurl           Reponame  \\\n",
       "0     mrdoob     https://github.com/mrdoob           three.js   \n",
       "1     libgdx     https://github.com/libgdx             libgdx   \n",
       "2  BabylonJS  https://github.com/BabylonJS         Babylon.js   \n",
       "3     pmndrs     https://github.com/pmndrs  react-three-fiber   \n",
       "4   aframevr   https://github.com/aframevr             aframe   \n",
       "\n",
       "                                       Repourl  Ratings  \n",
       "0           https://github.com/mrdoob/three.js    70400  \n",
       "1             https://github.com/libgdx/libgdx    18400  \n",
       "2      https://github.com/BabylonJS/Babylon.js    14000  \n",
       "3  https://github.com/pmndrs/react-three-fiber    13200  \n",
       "4           https://github.com/aframevr/aframe    12700  "
      ]
     },
     "execution_count": 77,
     "metadata": {},
     "output_type": "execute_result"
    }
   ],
   "source": [
    "url = 'https://github.com/topics/3d'\n",
    "get_repo(url).head(5)"
   ]
  },
  {
   "cell_type": "code",
   "execution_count": 90,
   "id": "916e4e37-98d9-4677-b011-770a13f1ffae",
   "metadata": {},
   "outputs": [],
   "source": [
    "# Convert ratings into integer.\n",
    "def str_to_float(star):\n",
    "    if star[-1] == 'k':\n",
    "        return int(float(star[:-1])*1000)\n",
    "    return int(star[:-1])"
   ]
  },
  {
   "cell_type": "code",
   "execution_count": 91,
   "id": "f4f43803-cc96-4219-87df-1b87a0af2949",
   "metadata": {},
   "outputs": [],
   "source": [
    "# Create a data frame out of dictionary\n",
    "def create_repo_df(dictr):\n",
    "    df = pd.DataFrame(dictr)\n",
    "    return df"
   ]
  },
  {
   "cell_type": "code",
   "execution_count": 88,
   "id": "83608f91-7155-4a9b-98e5-8741768e8817",
   "metadata": {},
   "outputs": [],
   "source": [
    "# To scrape repository data as DataframeS.\n",
    "def load_topics(topic_url,path, Title):\n",
    "    if os.path.exists(path):\n",
    "        print('The file {} already exits. Skipping....'.format(path))\n",
    "        return\n",
    "    topic_df = get_repo(topic_url)\n",
    "    topic_df.to_csv(path, index = None)\n",
    "    print(Title,'is downloaded')"
   ]
  },
  {
   "cell_type": "code",
   "execution_count": 85,
   "id": "057c7340-2aa4-416c-8094-58cbd546bb44",
   "metadata": {},
   "outputs": [
    {
     "name": "stdout",
     "output_type": "stream",
     "text": [
      "3d is downloaded\n"
     ]
    }
   ],
   "source": [
    "topic_url = 'https://github.com/topics/3d'\n",
    "path = '/resources/project/3d.csv'\n",
    "load_topics(topic_url,path,'3d')"
   ]
  },
  {
   "cell_type": "code",
   "execution_count": 87,
   "id": "26435c9a-97a6-4905-bd2f-432346588d0f",
   "metadata": {},
   "outputs": [],
   "source": [
    "# Main function to scrape the data from Github Website.\n",
    "def scrape_project_repo():\n",
    "    print('Scraping top topics from Github')\n",
    "    topics_df = scrape_project_topics()\n",
    "    os.makedirs('repo_data',exist_ok = True)\n",
    "    for index, row in topics_df.iterrows():\n",
    "        print(\"Scraping top repositories for {}\".format(row['Title']))\n",
    "        load_topics(row['Link'], '/resources/project/repo_data/' + row['Title'] + '.csv', row['Title'])"
   ]
  },
  {
   "cell_type": "code",
   "execution_count": 89,
   "id": "7f74fa28-c659-4b42-a55b-be8cb0ec2041",
   "metadata": {},
   "outputs": [
    {
     "name": "stdout",
     "output_type": "stream",
     "text": [
      "Scraping top topics from Github\n",
      "Scraping top repositories for 3D\n",
      "3D is downloaded\n",
      "Scraping top repositories for Ajax\n",
      "Ajax is downloaded\n",
      "Scraping top repositories for Algorithm\n",
      "Algorithm is downloaded\n",
      "Scraping top repositories for Amp\n",
      "Amp is downloaded\n",
      "Scraping top repositories for Android\n",
      "Android is downloaded\n",
      "Scraping top repositories for Angular\n",
      "Angular is downloaded\n",
      "Scraping top repositories for Ansible\n",
      "Ansible is downloaded\n",
      "Scraping top repositories for API\n",
      "API is downloaded\n",
      "Scraping top repositories for Arduino\n",
      "Arduino is downloaded\n",
      "Scraping top repositories for ASP.NET\n",
      "ASP.NET is downloaded\n",
      "Scraping top repositories for Atom\n",
      "Atom is downloaded\n",
      "Scraping top repositories for Awesome Lists\n",
      "Awesome Lists is downloaded\n",
      "Scraping top repositories for Amazon Web Services\n",
      "Amazon Web Services is downloaded\n",
      "Scraping top repositories for Azure\n",
      "Azure is downloaded\n",
      "Scraping top repositories for Babel\n",
      "Babel is downloaded\n",
      "Scraping top repositories for Bash\n",
      "Bash is downloaded\n",
      "Scraping top repositories for Bitcoin\n",
      "Bitcoin is downloaded\n",
      "Scraping top repositories for Bootstrap\n",
      "Bootstrap is downloaded\n",
      "Scraping top repositories for Bot\n",
      "Bot is downloaded\n",
      "Scraping top repositories for C\n",
      "C is downloaded\n",
      "Scraping top repositories for Chrome\n",
      "Chrome is downloaded\n",
      "Scraping top repositories for Chrome extension\n",
      "Chrome extension is downloaded\n",
      "Scraping top repositories for Command line interface\n",
      "Command line interface is downloaded\n",
      "Scraping top repositories for Clojure\n",
      "Clojure is downloaded\n",
      "Scraping top repositories for Code quality\n",
      "Code quality is downloaded\n",
      "Scraping top repositories for Code review\n",
      "Code review is downloaded\n",
      "Scraping top repositories for Compiler\n",
      "Compiler is downloaded\n",
      "Scraping top repositories for Continuous integration\n",
      "Continuous integration is downloaded\n",
      "Scraping top repositories for COVID-19\n",
      "COVID-19 is downloaded\n",
      "Scraping top repositories for C++\n",
      "C++ is downloaded\n"
     ]
    }
   ],
   "source": [
    "scrape_project_repo()"
   ]
  },
  {
   "cell_type": "code",
   "execution_count": null,
   "id": "78240185-40ad-4840-b83f-bca4d2b63066",
   "metadata": {},
   "outputs": [],
   "source": []
  }
 ],
 "metadata": {
  "kernelspec": {
   "display_name": "Python",
   "language": "python",
   "name": "conda-env-python-py"
  },
  "language_info": {
   "codemirror_mode": {
    "name": "ipython",
    "version": 3
   },
   "file_extension": ".py",
   "mimetype": "text/x-python",
   "name": "python",
   "nbconvert_exporter": "python",
   "pygments_lexer": "ipython3",
   "version": "3.6.13"
  }
 },
 "nbformat": 4,
 "nbformat_minor": 5
}
